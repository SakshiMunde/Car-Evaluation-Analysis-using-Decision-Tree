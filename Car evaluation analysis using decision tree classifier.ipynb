{
 "cells": [
  {
   "cell_type": "markdown",
   "id": "4afc940d",
   "metadata": {},
   "source": [
    "# Introduction\n",
    "- buying : Buying Level or Capacity of the customer (Very High: vhigh, High: high, Low: low, Medium: med)\n",
    "- maint  : Maintenence Level (Very High: vhigh, High: high, Low: low, Medium: med)\n",
    "- doors  : Number of doors in the car (2, 3, 4, and 5 or more)\n",
    "- persons : capacity in terms of persons to carry (2, 4, and more)\n",
    "- lug_boot: The size of the Luggage Boot (small, med, big)\n",
    "- safety: Safety Level of Car (high, med, low)\n",
    "- class: Unacceptable, Acceptable, VeryGood, Good\n",
    "\n",
    "- Steps \n",
    "  - Reading and understanding the data\n",
    "  - Data Cleaning\n",
    "  - Feature Engineering\n",
    "  - Train-Test split\n",
    "  - Model development\n",
    "  - Prediction\n",
    "  - Visualising decision tree\n",
    "  - Conclusion"
   ]
  },
  {
   "cell_type": "code",
   "execution_count": 1,
   "id": "21d2a544",
   "metadata": {},
   "outputs": [],
   "source": [
    "# import libraries\n",
    "import pandas as pd, numpy as np\n",
    "import matplotlib.pyplot as plt, seaborn as sns"
   ]
  },
  {
   "cell_type": "code",
   "execution_count": 2,
   "id": "b0c80c69",
   "metadata": {},
   "outputs": [],
   "source": [
    "import warnings\n",
    "warnings.filterwarnings(\"ignore\")"
   ]
  },
  {
   "cell_type": "markdown",
   "id": "bf588c81",
   "metadata": {},
   "source": [
    "## Reading and understanding the data"
   ]
  },
  {
   "cell_type": "code",
   "execution_count": 3,
   "id": "4980a7d9",
   "metadata": {},
   "outputs": [
    {
     "data": {
      "text/html": [
       "<div>\n",
       "<style scoped>\n",
       "    .dataframe tbody tr th:only-of-type {\n",
       "        vertical-align: middle;\n",
       "    }\n",
       "\n",
       "    .dataframe tbody tr th {\n",
       "        vertical-align: top;\n",
       "    }\n",
       "\n",
       "    .dataframe thead th {\n",
       "        text-align: right;\n",
       "    }\n",
       "</style>\n",
       "<table border=\"1\" class=\"dataframe\">\n",
       "  <thead>\n",
       "    <tr style=\"text-align: right;\">\n",
       "      <th></th>\n",
       "      <th>vhigh</th>\n",
       "      <th>vhigh.1</th>\n",
       "      <th>2</th>\n",
       "      <th>2.1</th>\n",
       "      <th>small</th>\n",
       "      <th>low</th>\n",
       "      <th>unacc</th>\n",
       "    </tr>\n",
       "  </thead>\n",
       "  <tbody>\n",
       "    <tr>\n",
       "      <th>0</th>\n",
       "      <td>vhigh</td>\n",
       "      <td>vhigh</td>\n",
       "      <td>2</td>\n",
       "      <td>2</td>\n",
       "      <td>small</td>\n",
       "      <td>med</td>\n",
       "      <td>unacc</td>\n",
       "    </tr>\n",
       "    <tr>\n",
       "      <th>1</th>\n",
       "      <td>vhigh</td>\n",
       "      <td>vhigh</td>\n",
       "      <td>2</td>\n",
       "      <td>2</td>\n",
       "      <td>small</td>\n",
       "      <td>high</td>\n",
       "      <td>unacc</td>\n",
       "    </tr>\n",
       "    <tr>\n",
       "      <th>2</th>\n",
       "      <td>vhigh</td>\n",
       "      <td>vhigh</td>\n",
       "      <td>2</td>\n",
       "      <td>2</td>\n",
       "      <td>med</td>\n",
       "      <td>low</td>\n",
       "      <td>unacc</td>\n",
       "    </tr>\n",
       "    <tr>\n",
       "      <th>3</th>\n",
       "      <td>vhigh</td>\n",
       "      <td>vhigh</td>\n",
       "      <td>2</td>\n",
       "      <td>2</td>\n",
       "      <td>med</td>\n",
       "      <td>med</td>\n",
       "      <td>unacc</td>\n",
       "    </tr>\n",
       "    <tr>\n",
       "      <th>4</th>\n",
       "      <td>vhigh</td>\n",
       "      <td>vhigh</td>\n",
       "      <td>2</td>\n",
       "      <td>2</td>\n",
       "      <td>med</td>\n",
       "      <td>high</td>\n",
       "      <td>unacc</td>\n",
       "    </tr>\n",
       "  </tbody>\n",
       "</table>\n",
       "</div>"
      ],
      "text/plain": [
       "   vhigh vhigh.1  2 2.1  small   low  unacc\n",
       "0  vhigh   vhigh  2   2  small   med  unacc\n",
       "1  vhigh   vhigh  2   2  small  high  unacc\n",
       "2  vhigh   vhigh  2   2    med   low  unacc\n",
       "3  vhigh   vhigh  2   2    med   med  unacc\n",
       "4  vhigh   vhigh  2   2    med  high  unacc"
      ]
     },
     "execution_count": 3,
     "metadata": {},
     "output_type": "execute_result"
    }
   ],
   "source": [
    "# import dataset\n",
    "df = pd.read_csv('/Users/sakshimunde/Downloads/car_evaluation.csv')\n",
    "df.head()"
   ]
  },
  {
   "cell_type": "markdown",
   "id": "ea60a2e8",
   "metadata": {},
   "source": [
    "- We can see that there are no proper column names in the dataset. We have to give proper names to the columns."
   ]
  },
  {
   "cell_type": "code",
   "execution_count": 4,
   "id": "e61d912c",
   "metadata": {},
   "outputs": [],
   "source": [
    "# Rename column names\n",
    "df.columns = ['buying','maint','doors','persons','lug_boot','safety','class']\n"
   ]
  },
  {
   "cell_type": "code",
   "execution_count": 5,
   "id": "c299d04b",
   "metadata": {},
   "outputs": [
    {
     "data": {
      "text/plain": [
       "(1727, 7)"
      ]
     },
     "execution_count": 5,
     "metadata": {},
     "output_type": "execute_result"
    }
   ],
   "source": [
    "# dimension of the data set\n",
    "df.shape"
   ]
  },
  {
   "cell_type": "code",
   "execution_count": 6,
   "id": "9e42a4c7",
   "metadata": {},
   "outputs": [
    {
     "data": {
      "text/html": [
       "<div>\n",
       "<style scoped>\n",
       "    .dataframe tbody tr th:only-of-type {\n",
       "        vertical-align: middle;\n",
       "    }\n",
       "\n",
       "    .dataframe tbody tr th {\n",
       "        vertical-align: top;\n",
       "    }\n",
       "\n",
       "    .dataframe thead th {\n",
       "        text-align: right;\n",
       "    }\n",
       "</style>\n",
       "<table border=\"1\" class=\"dataframe\">\n",
       "  <thead>\n",
       "    <tr style=\"text-align: right;\">\n",
       "      <th></th>\n",
       "      <th>buying</th>\n",
       "      <th>maint</th>\n",
       "      <th>doors</th>\n",
       "      <th>persons</th>\n",
       "      <th>lug_boot</th>\n",
       "      <th>safety</th>\n",
       "      <th>class</th>\n",
       "    </tr>\n",
       "  </thead>\n",
       "  <tbody>\n",
       "    <tr>\n",
       "      <th>0</th>\n",
       "      <td>vhigh</td>\n",
       "      <td>vhigh</td>\n",
       "      <td>2</td>\n",
       "      <td>2</td>\n",
       "      <td>small</td>\n",
       "      <td>med</td>\n",
       "      <td>unacc</td>\n",
       "    </tr>\n",
       "    <tr>\n",
       "      <th>1</th>\n",
       "      <td>vhigh</td>\n",
       "      <td>vhigh</td>\n",
       "      <td>2</td>\n",
       "      <td>2</td>\n",
       "      <td>small</td>\n",
       "      <td>high</td>\n",
       "      <td>unacc</td>\n",
       "    </tr>\n",
       "    <tr>\n",
       "      <th>2</th>\n",
       "      <td>vhigh</td>\n",
       "      <td>vhigh</td>\n",
       "      <td>2</td>\n",
       "      <td>2</td>\n",
       "      <td>med</td>\n",
       "      <td>low</td>\n",
       "      <td>unacc</td>\n",
       "    </tr>\n",
       "    <tr>\n",
       "      <th>3</th>\n",
       "      <td>vhigh</td>\n",
       "      <td>vhigh</td>\n",
       "      <td>2</td>\n",
       "      <td>2</td>\n",
       "      <td>med</td>\n",
       "      <td>med</td>\n",
       "      <td>unacc</td>\n",
       "    </tr>\n",
       "    <tr>\n",
       "      <th>4</th>\n",
       "      <td>vhigh</td>\n",
       "      <td>vhigh</td>\n",
       "      <td>2</td>\n",
       "      <td>2</td>\n",
       "      <td>med</td>\n",
       "      <td>high</td>\n",
       "      <td>unacc</td>\n",
       "    </tr>\n",
       "  </tbody>\n",
       "</table>\n",
       "</div>"
      ],
      "text/plain": [
       "  buying  maint doors persons lug_boot safety  class\n",
       "0  vhigh  vhigh     2       2    small    med  unacc\n",
       "1  vhigh  vhigh     2       2    small   high  unacc\n",
       "2  vhigh  vhigh     2       2      med    low  unacc\n",
       "3  vhigh  vhigh     2       2      med    med  unacc\n",
       "4  vhigh  vhigh     2       2      med   high  unacc"
      ]
     },
     "execution_count": 6,
     "metadata": {},
     "output_type": "execute_result"
    }
   ],
   "source": [
    "# lets look at the dataset\n",
    "df.head()"
   ]
  },
  {
   "cell_type": "markdown",
   "id": "8a71b52c",
   "metadata": {},
   "source": [
    "### Data Cleaning"
   ]
  },
  {
   "cell_type": "code",
   "execution_count": 7,
   "id": "a0b4badb",
   "metadata": {},
   "outputs": [
    {
     "data": {
      "text/plain": [
       "buying      0\n",
       "maint       0\n",
       "doors       0\n",
       "persons     0\n",
       "lug_boot    0\n",
       "safety      0\n",
       "class       0\n",
       "dtype: int64"
      ]
     },
     "execution_count": 7,
     "metadata": {},
     "output_type": "execute_result"
    }
   ],
   "source": [
    "df.isnull().sum()"
   ]
  },
  {
   "cell_type": "markdown",
   "id": "04431a80",
   "metadata": {},
   "source": [
    "- There are no null values."
   ]
  },
  {
   "cell_type": "code",
   "execution_count": 8,
   "id": "299f40a9",
   "metadata": {},
   "outputs": [
    {
     "name": "stdout",
     "output_type": "stream",
     "text": [
      "<class 'pandas.core.frame.DataFrame'>\n",
      "RangeIndex: 1727 entries, 0 to 1726\n",
      "Data columns (total 7 columns):\n",
      " #   Column    Non-Null Count  Dtype \n",
      "---  ------    --------------  ----- \n",
      " 0   buying    1727 non-null   object\n",
      " 1   maint     1727 non-null   object\n",
      " 2   doors     1727 non-null   object\n",
      " 3   persons   1727 non-null   object\n",
      " 4   lug_boot  1727 non-null   object\n",
      " 5   safety    1727 non-null   object\n",
      " 6   class     1727 non-null   object\n",
      "dtypes: object(7)\n",
      "memory usage: 94.6+ KB\n"
     ]
    }
   ],
   "source": [
    "# let's look at summary of the dataset\n",
    "df.info()"
   ]
  },
  {
   "cell_type": "code",
   "execution_count": 9,
   "id": "f4d087ce",
   "metadata": {},
   "outputs": [
    {
     "name": "stdout",
     "output_type": "stream",
     "text": [
      "high     432\n",
      "med      432\n",
      "low      432\n",
      "vhigh    431\n",
      "Name: buying, dtype: int64\n",
      "\n",
      "\n",
      "high     432\n",
      "med      432\n",
      "low      432\n",
      "vhigh    431\n",
      "Name: maint, dtype: int64\n",
      "\n",
      "\n",
      "3        432\n",
      "4        432\n",
      "5more    432\n",
      "2        431\n",
      "Name: doors, dtype: int64\n",
      "\n",
      "\n",
      "4       576\n",
      "more    576\n",
      "2       575\n",
      "Name: persons, dtype: int64\n",
      "\n",
      "\n",
      "med      576\n",
      "big      576\n",
      "small    575\n",
      "Name: lug_boot, dtype: int64\n",
      "\n",
      "\n",
      "med     576\n",
      "high    576\n",
      "low     575\n",
      "Name: safety, dtype: int64\n",
      "\n",
      "\n",
      "unacc    1209\n",
      "acc       384\n",
      "good       69\n",
      "vgood      65\n",
      "Name: class, dtype: int64\n",
      "\n",
      "\n"
     ]
    }
   ],
   "source": [
    "# Let's look at the frequency distribution of values in variables\n",
    "col = ['buying','maint','doors','persons','lug_boot','safety','class']\n",
    "for c in col:\n",
    "    print(df[c].value_counts())\n",
    "    print('\\n')"
   ]
  },
  {
   "cell_type": "markdown",
   "id": "ea300b09",
   "metadata": {},
   "source": [
    "- All the variables are of ordinal categorical type.\n",
    "- Class is the target variable.\n",
    "\n",
    "### Declare feature vector and target variable "
   ]
  },
  {
   "cell_type": "code",
   "execution_count": 10,
   "id": "d7964924",
   "metadata": {},
   "outputs": [],
   "source": [
    "X = df.drop(['class'],axis=1)\n",
    "y = df['class']"
   ]
  },
  {
   "cell_type": "markdown",
   "id": "6d157cb6",
   "metadata": {},
   "source": [
    "### Feature Engineering\n",
    "- Feature Engineering is the process of transforming raw data into useful features that help us to understand our model better and increase its predictive power."
   ]
  },
  {
   "cell_type": "code",
   "execution_count": 11,
   "id": "cc9d601b",
   "metadata": {},
   "outputs": [],
   "source": [
    "# import category_encoders\n",
    "\n",
    "from sklearn.preprocessing import OrdinalEncoder"
   ]
  },
  {
   "cell_type": "code",
   "execution_count": 12,
   "id": "524bee30",
   "metadata": {},
   "outputs": [
    {
     "data": {
      "text/plain": [
       "OrdinalEncoder(categories=[['low', 'med', 'high', 'vhigh'],\n",
       "                           ['low', 'med', 'high', 'vhigh'],\n",
       "                           ['2', '3', '4', '5more'], ['2', '4', 'more'],\n",
       "                           ['small', 'med', 'big'], ['low', 'med', 'high']])"
      ]
     },
     "execution_count": 12,
     "metadata": {},
     "output_type": "execute_result"
    }
   ],
   "source": [
    "# Encoding categorical variables. Encode variables with ordinal encoding\n",
    "\n",
    "buying_price_category = ['low', 'med', 'high', 'vhigh']\n",
    "maint_cost_category = ['low', 'med', 'high', 'vhigh']\n",
    "doors_category = ['2', '3', '4', '5more']\n",
    "person_capacity_category = ['2', '4', 'more']\n",
    "lug_boot_category = ['small', 'med', 'big']\n",
    "safety_category = ['low', 'med', 'high']\n",
    "\n",
    "\n",
    "cat = [buying_price_category, maint_cost_category ,doors_category, person_capacity_category ,\n",
    "       lug_boot_category, safety_category]\n",
    "oe = OrdinalEncoder(categories = cat)\n",
    "oe"
   ]
  },
  {
   "cell_type": "code",
   "execution_count": 13,
   "id": "bf518e17",
   "metadata": {},
   "outputs": [],
   "source": [
    "X = oe.fit_transform( df[['buying','maint','doors','persons','lug_boot','safety']])"
   ]
  },
  {
   "cell_type": "markdown",
   "id": "b37b4e1e",
   "metadata": {},
   "source": [
    "## Train-Test split"
   ]
  },
  {
   "cell_type": "code",
   "execution_count": 14,
   "id": "e384e635",
   "metadata": {},
   "outputs": [
    {
     "name": "stdout",
     "output_type": "stream",
     "text": [
      "(1208, 6)\n",
      "(1208,)\n",
      "(519, 6)\n",
      "(519,)\n"
     ]
    }
   ],
   "source": [
    "from sklearn.model_selection import train_test_split\n",
    "\n",
    "X_train, X_test, y_train, y_test = train_test_split(X, y, train_size = 0.7, test_size=0.3, random_state = 100)\n",
    "print(X_train.shape)\n",
    "print(y_train.shape)\n",
    "print(X_test.shape)\n",
    "print(y_test.shape)"
   ]
  },
  {
   "cell_type": "markdown",
   "id": "7fbb906f",
   "metadata": {},
   "source": [
    "- We have train and test dataset ready for model building.\n",
    "##  Model development \n",
    "##### Decision Tree Classifier with criterion Gini index "
   ]
  },
  {
   "cell_type": "code",
   "execution_count": 15,
   "id": "4446df4b",
   "metadata": {},
   "outputs": [],
   "source": [
    "# import decision tree classifier\n",
    "from sklearn.tree import DecisionTreeClassifier"
   ]
  },
  {
   "cell_type": "code",
   "execution_count": 16,
   "id": "3bcc2530",
   "metadata": {},
   "outputs": [
    {
     "data": {
      "text/plain": [
       "DecisionTreeClassifier(max_depth=3, min_samples_split=10)"
      ]
     },
     "execution_count": 16,
     "metadata": {},
     "output_type": "execute_result"
    }
   ],
   "source": [
    "# Instance/object of class DecsionTreeClassifier with criterion gini index\n",
    "dt_gini = DecisionTreeClassifier(max_depth = 3, criterion = 'gini' ,min_samples_split = 10)\n",
    "\n",
    "# fit the model\n",
    "dt_gini.fit(X_train, y_train)"
   ]
  },
  {
   "cell_type": "markdown",
   "id": "69bc81fd",
   "metadata": {},
   "source": [
    "## Predicting train and test set "
   ]
  },
  {
   "cell_type": "code",
   "execution_count": 17,
   "id": "84cfd757",
   "metadata": {},
   "outputs": [],
   "source": [
    "y_train_pred = dt_gini.predict(X_train)\n",
    "y_test_pred = dt_gini.predict(X_test)"
   ]
  },
  {
   "cell_type": "markdown",
   "id": "e30e16a5",
   "metadata": {},
   "source": [
    "##### Checking accuracy score of train and test dataset"
   ]
  },
  {
   "cell_type": "code",
   "execution_count": 18,
   "id": "ac56be21",
   "metadata": {},
   "outputs": [],
   "source": [
    "from sklearn.metrics import accuracy_score"
   ]
  },
  {
   "cell_type": "code",
   "execution_count": 19,
   "id": "3b2364f8",
   "metadata": {},
   "outputs": [
    {
     "name": "stdout",
     "output_type": "stream",
     "text": [
      "Training set : 0.7955298013245033\n",
      "Test set : 0.7822736030828517\n"
     ]
    }
   ],
   "source": [
    "# accuracy \n",
    "print('Training set :',accuracy_score(y_train, y_train_pred))\n",
    "print('Test set :',accuracy_score(y_test, y_test_pred))"
   ]
  },
  {
   "cell_type": "markdown",
   "id": "ec9df219",
   "metadata": {},
   "source": [
    "- Here y_train is the actual class label and y_train_pred is predicted class labels.\n",
    "###### Checking for overfitting and uderfitting\n",
    "- Here training-set accuracy score is 0.79 and test-set is 0.78. This two values are quite comparable. With this we can say there is no overfitting.\n",
    "## Confusion Matrix\n",
    "- A confusion matrix is a tool for summarizing the performance of a classification algorithm. A confusion matrix will give us a clear picture of classification model performance and the types of errors produced by the model. "
   ]
  },
  {
   "cell_type": "code",
   "execution_count": 20,
   "id": "c3c2c005",
   "metadata": {},
   "outputs": [
    {
     "data": {
      "text/plain": [
       "array([[ 49,   0,  56,   0],\n",
       "       [ 22,   0,   0,   0],\n",
       "       [ 15,   0, 357,   0],\n",
       "       [ 20,   0,   0,   0]])"
      ]
     },
     "execution_count": 20,
     "metadata": {},
     "output_type": "execute_result"
    }
   ],
   "source": [
    "from sklearn.metrics import confusion_matrix\n",
    "\n",
    "# confusion_matrix\n",
    "confusion_matrix(y_test, y_test_pred)"
   ]
  },
  {
   "cell_type": "markdown",
   "id": "b0331b6e",
   "metadata": {},
   "source": [
    "### Visualise Decision trees"
   ]
  },
  {
   "cell_type": "code",
   "execution_count": 21,
   "id": "15e49156",
   "metadata": {},
   "outputs": [
    {
     "data": {
      "image/png": "[encoded data removed]",
      "text/plain": [
       "<Figure size 720x720 with 1 Axes>"
      ]
     },
     "metadata": {
      "needs_background": "light"
     },
     "output_type": "display_data"
    }
   ],
   "source": [
    "plt.figure(figsize= [10,10])\n",
    "from sklearn import tree\n",
    "tree.plot_tree(dt_gini)\n",
    "plt.show()"
   ]
  },
  {
   "cell_type": "markdown",
   "id": "b8112f7a",
   "metadata": {},
   "source": [
    "### Visualise decision tree with graphviz"
   ]
  },
  {
   "cell_type": "code",
   "execution_count": 22,
   "id": "86792a17",
   "metadata": {},
   "outputs": [],
   "source": [
    "import graphviz"
   ]
  },
  {
   "cell_type": "code",
   "execution_count": 23,
   "id": "dbe5f37e",
   "metadata": {},
   "outputs": [
    {
     "data": {
      "image/svg+xml": [
       "<?xml version=\"1.0\" encoding=\"UTF-8\" standalone=\"no\"?>\n",
       "<!DOCTYPE svg PUBLIC \"-//W3C//DTD SVG 1.1//EN\"\n",
       " \"http://www.w3.org/Graphics/SVG/1.1/DTD/svg11.dtd\">\n",
       "<!-- Generated by graphviz version 7.1.0 (20230121.1956)\n",
       " -->\n",
       "<!-- Title: Tree Pages: 1 -->\n",
       "<svg width=\"503pt\" height=\"433pt\"\n",
       " viewBox=\"0.00 0.00 502.50 433.00\" xmlns=\"http://www.w3.org/2000/svg\" xmlns:xlink=\"http://www.w3.org/1999/xlink\">\n",
       "<g id=\"graph0\" class=\"graph\" transform=\"scale(1 1) rotate(0) translate(4 429)\">\n",
       "<title>Tree</title>\n",
       "<polygon fill=\"white\" stroke=\"none\" points=\"-4,4 -4,-429 498.5,-429 498.5,4 -4,4\"/>\n",
       "<!-- 0 -->\n",
       "<g id=\"node1\" class=\"node\">\n",
       "<title>0</title>\n",
       "<path fill=\"#88c4ef\" stroke=\"black\" d=\"M229,-425C229,-425 83,-425 83,-425 77,-425 71,-419 71,-413 71,-413 71,-354 71,-354 71,-348 77,-342 83,-342 83,-342 229,-342 229,-342 235,-342 241,-348 241,-354 241,-354 241,-413 241,-413 241,-419 235,-425 229,-425\"/>\n",
       "<text text-anchor=\"start\" x=\"121\" y=\"-409.8\" font-family=\"Helvetica,sans-Serif\" font-size=\"14.00\">safety ≤ 0.5</text>\n",
       "<text text-anchor=\"start\" x=\"120.5\" y=\"-394.8\" font-family=\"Helvetica,sans-Serif\" font-size=\"14.00\">gini = 0.464</text>\n",
       "<text text-anchor=\"start\" x=\"107.5\" y=\"-379.8\" font-family=\"Helvetica,sans-Serif\" font-size=\"14.00\">samples = 1208</text>\n",
       "<text text-anchor=\"start\" x=\"79\" y=\"-364.8\" font-family=\"Helvetica,sans-Serif\" font-size=\"14.00\">value = [279, 47, 837, 45]</text>\n",
       "<text text-anchor=\"start\" x=\"114.5\" y=\"-349.8\" font-family=\"Helvetica,sans-Serif\" font-size=\"14.00\">class = unacc</text>\n",
       "</g>\n",
       "<!-- 1 -->\n",
       "<g id=\"node2\" class=\"node\">\n",
       "<title>1</title>\n",
       "<path fill=\"#399de5\" stroke=\"black\" d=\"M128,-298.5C128,-298.5 12,-298.5 12,-298.5 6,-298.5 0,-292.5 0,-286.5 0,-286.5 0,-242.5 0,-242.5 0,-236.5 6,-230.5 12,-230.5 12,-230.5 128,-230.5 128,-230.5 134,-230.5 140,-236.5 140,-242.5 140,-242.5 140,-286.5 140,-286.5 140,-292.5 134,-298.5 128,-298.5\"/>\n",
       "<text text-anchor=\"start\" x=\"42\" y=\"-283.3\" font-family=\"Helvetica,sans-Serif\" font-size=\"14.00\">gini = 0.0</text>\n",
       "<text text-anchor=\"start\" x=\"25\" y=\"-268.3\" font-family=\"Helvetica,sans-Serif\" font-size=\"14.00\">samples = 403</text>\n",
       "<text text-anchor=\"start\" x=\"8\" y=\"-253.3\" font-family=\"Helvetica,sans-Serif\" font-size=\"14.00\">value = [0, 0, 403, 0]</text>\n",
       "<text text-anchor=\"start\" x=\"28.5\" y=\"-238.3\" font-family=\"Helvetica,sans-Serif\" font-size=\"14.00\">class = unacc</text>\n",
       "</g>\n",
       "<!-- 0&#45;&gt;1 -->\n",
       "<g id=\"edge1\" class=\"edge\">\n",
       "<title>0&#45;&gt;1</title>\n",
       "<path fill=\"none\" stroke=\"black\" d=\"M125.92,-341.58C117.9,-330.66 109.21,-318.85 101.14,-307.86\"/>\n",
       "<polygon fill=\"black\" stroke=\"black\" points=\"104.16,-306.07 95.42,-300.08 98.52,-310.21 104.16,-306.07\"/>\n",
       "<text text-anchor=\"middle\" x=\"90.75\" y=\"-319.87\" font-family=\"Helvetica,sans-Serif\" font-size=\"14.00\">True</text>\n",
       "</g>\n",
       "<!-- 2 -->\n",
       "<g id=\"node3\" class=\"node\">\n",
       "<title>2</title>\n",
       "<path fill=\"#c5e2f7\" stroke=\"black\" d=\"M316,-306C316,-306 170,-306 170,-306 164,-306 158,-300 158,-294 158,-294 158,-235 158,-235 158,-229 164,-223 170,-223 170,-223 316,-223 316,-223 322,-223 328,-229 328,-235 328,-235 328,-294 328,-294 328,-300 322,-306 316,-306\"/>\n",
       "<text text-anchor=\"start\" x=\"202\" y=\"-290.8\" font-family=\"Helvetica,sans-Serif\" font-size=\"14.00\">persons ≤ 0.5</text>\n",
       "<text text-anchor=\"start\" x=\"207.5\" y=\"-275.8\" font-family=\"Helvetica,sans-Serif\" font-size=\"14.00\">gini = 0.583</text>\n",
       "<text text-anchor=\"start\" x=\"198\" y=\"-260.8\" font-family=\"Helvetica,sans-Serif\" font-size=\"14.00\">samples = 805</text>\n",
       "<text text-anchor=\"start\" x=\"166\" y=\"-245.8\" font-family=\"Helvetica,sans-Serif\" font-size=\"14.00\">value = [279, 47, 434, 45]</text>\n",
       "<text text-anchor=\"start\" x=\"201.5\" y=\"-230.8\" font-family=\"Helvetica,sans-Serif\" font-size=\"14.00\">class = unacc</text>\n",
       "</g>\n",
       "<!-- 0&#45;&gt;2 -->\n",
       "<g id=\"edge2\" class=\"edge\">\n",
       "<title>0&#45;&gt;2</title>\n",
       "<path fill=\"none\" stroke=\"black\" d=\"M186.43,-341.58C192.76,-333.07 199.49,-324.01 206.02,-315.23\"/>\n",
       "<polygon fill=\"black\" stroke=\"black\" points=\"208.67,-317.53 211.83,-307.41 203.06,-313.35 208.67,-317.53\"/>\n",
       "<text text-anchor=\"middle\" x=\"216.37\" y=\"-327.23\" font-family=\"Helvetica,sans-Serif\" font-size=\"14.00\">False</text>\n",
       "</g>\n",
       "<!-- 3 -->\n",
       "<g id=\"node4\" class=\"node\">\n",
       "<title>3</title>\n",
       "<path fill=\"#399de5\" stroke=\"black\" d=\"M214,-179.5C214,-179.5 98,-179.5 98,-179.5 92,-179.5 86,-173.5 86,-167.5 86,-167.5 86,-123.5 86,-123.5 86,-117.5 92,-111.5 98,-111.5 98,-111.5 214,-111.5 214,-111.5 220,-111.5 226,-117.5 226,-123.5 226,-123.5 226,-167.5 226,-167.5 226,-173.5 220,-179.5 214,-179.5\"/>\n",
       "<text text-anchor=\"start\" x=\"128\" y=\"-164.3\" font-family=\"Helvetica,sans-Serif\" font-size=\"14.00\">gini = 0.0</text>\n",
       "<text text-anchor=\"start\" x=\"111\" y=\"-149.3\" font-family=\"Helvetica,sans-Serif\" font-size=\"14.00\">samples = 258</text>\n",
       "<text text-anchor=\"start\" x=\"94\" y=\"-134.3\" font-family=\"Helvetica,sans-Serif\" font-size=\"14.00\">value = [0, 0, 258, 0]</text>\n",
       "<text text-anchor=\"start\" x=\"114.5\" y=\"-119.3\" font-family=\"Helvetica,sans-Serif\" font-size=\"14.00\">class = unacc</text>\n",
       "</g>\n",
       "<!-- 2&#45;&gt;3 -->\n",
       "<g id=\"edge3\" class=\"edge\">\n",
       "<title>2&#45;&gt;3</title>\n",
       "<path fill=\"none\" stroke=\"black\" d=\"M212.57,-222.58C204.46,-211.66 195.67,-199.85 187.5,-188.86\"/>\n",
       "<polygon fill=\"black\" stroke=\"black\" points=\"190.49,-187.01 181.71,-181.08 184.87,-191.19 190.49,-187.01\"/>\n",
       "</g>\n",
       "<!-- 4 -->\n",
       "<g id=\"node5\" class=\"node\">\n",
       "<title>4</title>\n",
       "<path fill=\"#f8dcc8\" stroke=\"black\" d=\"M402,-187C402,-187 256,-187 256,-187 250,-187 244,-181 244,-175 244,-175 244,-116 244,-116 244,-110 250,-104 256,-104 256,-104 402,-104 402,-104 408,-104 414,-110 414,-116 414,-116 414,-175 414,-175 414,-181 408,-187 402,-187\"/>\n",
       "<text text-anchor=\"start\" x=\"292\" y=\"-171.8\" font-family=\"Helvetica,sans-Serif\" font-size=\"14.00\">buying ≤ 1.5</text>\n",
       "<text text-anchor=\"start\" x=\"293.5\" y=\"-156.8\" font-family=\"Helvetica,sans-Serif\" font-size=\"14.00\">gini = 0.622</text>\n",
       "<text text-anchor=\"start\" x=\"284\" y=\"-141.8\" font-family=\"Helvetica,sans-Serif\" font-size=\"14.00\">samples = 547</text>\n",
       "<text text-anchor=\"start\" x=\"252\" y=\"-126.8\" font-family=\"Helvetica,sans-Serif\" font-size=\"14.00\">value = [279, 47, 176, 45]</text>\n",
       "<text text-anchor=\"start\" x=\"287.5\" y=\"-111.8\" font-family=\"Helvetica,sans-Serif\" font-size=\"14.00\">class = unacc</text>\n",
       "</g>\n",
       "<!-- 2&#45;&gt;4 -->\n",
       "<g id=\"edge4\" class=\"edge\">\n",
       "<title>2&#45;&gt;4</title>\n",
       "<path fill=\"none\" stroke=\"black\" d=\"M273.08,-222.58C279.33,-214.07 285.99,-205.01 292.45,-196.23\"/>\n",
       "<polygon fill=\"black\" stroke=\"black\" points=\"295.08,-198.55 298.19,-188.42 289.44,-194.4 295.08,-198.55\"/>\n",
       "</g>\n",
       "<!-- 5 -->\n",
       "<g id=\"node6\" class=\"node\">\n",
       "<title>5</title>\n",
       "<path fill=\"#f3c4a2\" stroke=\"black\" d=\"M309,-68C309,-68 171,-68 171,-68 165,-68 159,-62 159,-56 159,-56 159,-12 159,-12 159,-6 165,0 171,0 171,0 309,0 309,0 315,0 321,-6 321,-12 321,-12 321,-56 321,-56 321,-62 315,-68 309,-68\"/>\n",
       "<text text-anchor=\"start\" x=\"204.5\" y=\"-52.8\" font-family=\"Helvetica,sans-Serif\" font-size=\"14.00\">gini = 0.622</text>\n",
       "<text text-anchor=\"start\" x=\"195\" y=\"-37.8\" font-family=\"Helvetica,sans-Serif\" font-size=\"14.00\">samples = 278</text>\n",
       "<text text-anchor=\"start\" x=\"167\" y=\"-22.8\" font-family=\"Helvetica,sans-Serif\" font-size=\"14.00\">value = [155, 47, 31, 45]</text>\n",
       "<text text-anchor=\"start\" x=\"198.5\" y=\"-7.8\" font-family=\"Helvetica,sans-Serif\" font-size=\"14.00\">class = unacc</text>\n",
       "</g>\n",
       "<!-- 4&#45;&gt;5 -->\n",
       "<g id=\"edge5\" class=\"edge\">\n",
       "<title>4&#45;&gt;5</title>\n",
       "<path fill=\"none\" stroke=\"black\" d=\"M295.86,-103.73C288.82,-95.06 281.37,-85.9 274.28,-77.18\"/>\n",
       "<polygon fill=\"black\" stroke=\"black\" points=\"277.04,-75.03 268.02,-69.47 271.61,-79.44 277.04,-75.03\"/>\n",
       "</g>\n",
       "<!-- 6 -->\n",
       "<g id=\"node7\" class=\"node\">\n",
       "<title>6</title>\n",
       "<path fill=\"#e2f1fb\" stroke=\"black\" d=\"M482.5,-68C482.5,-68 351.5,-68 351.5,-68 345.5,-68 339.5,-62 339.5,-56 339.5,-56 339.5,-12 339.5,-12 339.5,-6 345.5,0 351.5,0 351.5,0 482.5,0 482.5,0 488.5,0 494.5,-6 494.5,-12 494.5,-12 494.5,-56 494.5,-56 494.5,-62 488.5,-68 482.5,-68\"/>\n",
       "<text text-anchor=\"start\" x=\"381.5\" y=\"-52.8\" font-family=\"Helvetica,sans-Serif\" font-size=\"14.00\">gini = 0.497</text>\n",
       "<text text-anchor=\"start\" x=\"372\" y=\"-37.8\" font-family=\"Helvetica,sans-Serif\" font-size=\"14.00\">samples = 269</text>\n",
       "<text text-anchor=\"start\" x=\"347.5\" y=\"-22.8\" font-family=\"Helvetica,sans-Serif\" font-size=\"14.00\">value = [124, 0, 145, 0]</text>\n",
       "<text text-anchor=\"start\" x=\"375.5\" y=\"-7.8\" font-family=\"Helvetica,sans-Serif\" font-size=\"14.00\">class = unacc</text>\n",
       "</g>\n",
       "<!-- 4&#45;&gt;6 -->\n",
       "<g id=\"edge6\" class=\"edge\">\n",
       "<title>4&#45;&gt;6</title>\n",
       "<path fill=\"none\" stroke=\"black\" d=\"M361.77,-103.73C368.73,-95.06 376.1,-85.9 383.1,-77.18\"/>\n",
       "<polygon fill=\"black\" stroke=\"black\" points=\"385.75,-79.47 389.29,-69.48 380.3,-75.08 385.75,-79.47\"/>\n",
       "</g>\n",
       "</g>\n",
       "</svg>\n"
      ],
      "text/plain": [
       "<graphviz.sources.Source at 0x7f802afe5fd0>"
      ]
     },
     "execution_count": 23,
     "metadata": {},
     "output_type": "execute_result"
    }
   ],
   "source": [
    "dot_data = tree.export_graphviz(dt_gini, out_file=None, class_names = y_train, feature_names = df.columns[:-1], \n",
    "                               filled = True, rounded = True, special_characters = True)\n",
    "graph = graphviz.Source(dot_data)\n",
    "graph"
   ]
  },
  {
   "cell_type": "markdown",
   "id": "95a09201",
   "metadata": {},
   "source": [
    "- Gini index is a measure of the impurity of the node.\n",
    "\n",
    "- The root node in the tree is based on \"safety\" feature. If safety is <= 0.5 then samples are classified as \"unacc(unacceptable)\". The decision tree shows that the safety feature has a strong imapct on the acceptance of a car. If the safety rating is below 0.5, then the car is likely to be unacceptable.\n",
    "\n",
    "- The first split is based on the \"persons\" feature,which suggests that the number of persons that a car can accommodate is another important factor in determining whether a car is accepted or not. \n",
    "\n",
    "- The second split is based on 'buying' feature which suggests that the price range of a car is also an important factor in determining its acceptance.\n",
    "- The decision tree also indicates that the majority of the cars in the dataset are labelled as 'unacc' with a value count of 1210 out of 1728 instances.\n",
    "\n",
    "# Conclusion \n",
    "- If the safety is <= 0.5 , buying price <=1.5(low or med) and if the number of persons the car can hold is <= 0.5, then the car is likely to be unacceptable.\n",
    "- If the above conditions are not met, then the car is likely to be acceptable.\n"
   ]
  }
 ],
 "metadata": {
  "kernelspec": {
   "display_name": "Python 3 (ipykernel)",
   "language": "python",
   "name": "python3"
  },
  "language_info": {
   "codemirror_mode": {
    "name": "ipython",
    "version": 3
   },
   "file_extension": ".py",
   "mimetype": "text/x-python",
   "name": "python",
   "nbconvert_exporter": "python",
   "pygments_lexer": "ipython3",
   "version": "3.9.12"
  }
 },
 "nbformat": 4,
 "nbformat_minor": 5
}
